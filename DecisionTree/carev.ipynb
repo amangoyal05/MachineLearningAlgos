{
 "cells": [
  {
   "cell_type": "markdown",
   "id": "occupied-crawford",
   "metadata": {},
   "source": [
    "This article aims at introducing decision trees; a popular building block of highly praised models such as xgboost. A decision tree is simply a set of cascading questions. When you get a data point (i.e. set of features and values), you use each attribute (i.e. a value of a given feature of the data point) to answer a question. The answer to each question decides the next question. At the end of this sequence of questions, you will end up with a probability of the data point belonging to each class.<br>\n",
    "### Why decision trees?\n",
    "Decision trees are great for several reasons. But as with any model, the true power comes when you use a model in a suitable context. Remember,<br>\n",
    "<i>garbage in, garbage out!</i><br>Decision trees are great in the sense that<br><ul><li>They are easily <b>interpretable</b> and follows a similar pattern to human thinking. In other words, you can explain a decision tree as a set of questions/business rules.</li>\n",
    "    <li>Prediction is <b>fast.</b> It’s a set of comparison operations until you reach a leaf node</li>\n",
    "    <li>Can be adapted to deal with <b>missing data</b> without imputing data</li></ul>\n",
    "### Primer on decision trees:\n",
    "As I said earlier, a decision tree is basically set of cascading questions (formed to a shape of a tree). The questions test whether a feature of the data satisfies a certain condition (e.g. is Outlook == Sunny ?). Let’s flesh this out a little bit. For that let’s assume a typical weather dataset (I personally don’t like the weather dataset — too mainstream, so I’ll switch to something a bit more exciting later).<br><center><img src=\"https://miro.medium.com/max/914/1*8__PlTNgTd22adkH-9oFzQ.png\"></center><br>Say we have the above dataset, and would like to predict if we would play golf or not given the weather. The decision tree for this problem might look like the one below.<br><center><img src=\"https://miro.medium.com/max/797/1*Qqr1ZsGqOISKv-dQR0N1rA.png\"><h6>An example decision tree. Round nodes denote decision nodes, where square nodes denote leaf nodes</h6></center><br> \n",
    "### Components of a decision tree\n",
    "Let me give you a brief anatomy lesson of a decision tree. The tree has decision nodes (round), decisions (edges), and leaf/prediction nodes (square). You first start off with a decision node (e.g. Outlook) and depending on the answer, you might have a leaf node, or another decision node (e.g. Windy). A decision tree could go on for an arbitrary number of decision nodes. However, each branch should end with a leaf node.<br>\n",
    "### Predicting with a decision tree\n",
    "Now say you have a new datapoint, which you would like to predict the label for.<br><i>Outlook = Sunny, Temperature = Hot, Humidity = Normal, Windy = True</i><br>In order to predict, you start from the top of the tree and traverse deeper and deeper using the attributes (i.e. feature values) to make decisions along the tree, until you reach a leaf node. This process is depicted below.<br><center><img src=\"https://miro.medium.com/max/797/1*rmV_02XSjCpCaj11wZJDCQ.png\"></center><br>Guess you’re not playing Golf.<br>\n",
    "### Building a tree\n",
    "Of course there is a more important question that still remains.<br>\n",
    "<h3>How can we arrive at this tree?</h3><br>\n",
    "More importantly,<br>\n",
    "<h3>How can we decide the best feature partition data at a given depth?</h3><br>\n",
    "There are several different different algorithm used to generate trees such as,<br>\n",
    "<ul><li><b>CART</b> (Classification and regression trees) — Uses <u>Gini coefficient</u> to decide partition feature</li>\n",
    "    <li><b>ID3</b> (Uses information gain - discussed later, to decide the partition feature, and <b>not designed to deal with continuous features</b>)</li>\n",
    "    <li><b>C4.5</b> (Works similar to ID3 by using information gain to split data. However C4.5 <b>can handle continuous features,</b> as well as <b>can work with missing data</b>)</li>\n",
    "</ul><br>\n",
    "<b>Entropy</b>: It is used to measure the impurity or randomness of a dataset. Imagine choosing a yellow ball from a box of just yellow balls (say 100 yellow balls). Then this box is said to have 0 entropy which implies 0 impurity or total purity.<br>Now, let’s say 30 of these balls are replaced by red and 20 by blue. If we now draw another ball from the box, the probability of drawing a yellow ball will drop from 1.0 to 0.5. Since the impurity has increased, entropy has also increased while purity has decreased. Shannon’s entropy model uses the logarithm function with base 2 (log2(P(x)) to measure the entropy because as the probability P(x) of randomly drawing a yellow ball increases, the result approaches closer to binary logarithm 1 as shown in the graph below.<br><center><img src=\"https://miro.medium.com/max/1050/1*2HDboZpOA6O2UV0moi_rCg.png\"></center><br>When a target feature contains more than one type of element (balls of different colors in a box), it is useful to sum up the entropies of each possible target value and weigh it by the probability of getting these values assuming a random draw. This finally leads us to the formal definition of Shannon’s entropy which serves as the baseline for the information gain calculation:<br><center><img src=\"https://miro.medium.com/max/1050/1*Mag0PsD0O6QeNSXBb6BTzQ.png\"></center><br>\n",
    "Where P(x=k) is the probability that a target feature takes a specific value, k.\n",
    "Logarithm of fractions gives a negative value and hence a ‘-‘ sign is used in entropy formula to negate these negative values. The maximum value for entropy depends on the number of classes.<br>\n",
    "<ul><li>2 classes: Max entropy is 1</li>\n",
    "<li>4 Classes: Max entropy is 2</li>\n",
    "<li>8 Classes: Max entropy is 3</li>\n",
    "<li>16 classes: Max entropy is 4</li></ul>\n",
    "<b>Information Gain:</b> To find the best feature which serves as a root node in terms of information gain, we first use each descriptive feature and split the dataset along the values of these descriptive features and then calculate the entropy of the dataset. This gives us the remaining entropy once we have split the dataset along the feature values. Then, we subtract this value from the originally calculated entropy of the dataset to see how much this feature splitting reduces the original entropy which gives the information gain of a feature and is calculated as:<br><center><img src=\"https://miro.medium.com/max/1050/1*5Bzoc6n44YXGAZtmEWCi9Q.png\"></center><br>\n",
    "The feature with the largest information gain should be used as the root node to start building the decision tree.\n",
    "ID3 algorithm uses information gain for constructing the decision tree.<br>\n",
    "<b>Gini Index:</b> It is calculated by subtracting the sum of squared probabilities of each class from one. It favors larger partitions and easy to implement whereas information gain favors smaller partitions with distinct values.<br><center><img src=\"https://miro.medium.com/max/1050/1*bOOmVYHSwWcPoXZKSLc2Xw.png\"></center><br>A feature with a lower Gini index is chosen for a split.<br>The classic CART algorithm uses the Gini Index for constructing the decision tree.<br>\n",
    "Let’s now move onto solving a more exciting fictional problem. We want to find an evil King who is terrifying streets of TreeLand.<br>"
   ]
  },
  {
   "cell_type": "markdown",
   "id": "intermediate-engagement",
   "metadata": {},
   "source": [
    "### Find the disguised king on the streets\n",
    "<i>(Data and features)</i>\n",
    "From this section onward, I am going to explain decision trees with a story of the king of TreeLand who loved fooling locals by disguising himself on the streets. This was annoying because whenever someone unintentionally treat the king badly, he would be punished. People were quite vexed, and one wise man (let’s call him John) stepped up and said he can solve this in 10 days!<br>\n",
    "John assumed several characteristics of the king that cuts a distinctive figure when he is in public. The features are,<br><ul>\n",
    "    <li>Comes out of the castle</li>\n",
    "    <li>Walks slowly</li>\n",
    "    <li>Eats 5 or more times daily</li>\n",
    "    <li>Has a gold tooth</li>\n",
    "</ul>\n",
    "John started observing people and creating a dataset (one datapoint per person) along with the target variable (i.e. whether the person was actually the king or not). He has the following observations. Unfortunately this dataset came at the cost of suffering of five people.<br><center><img src=\"https://miro.medium.com/max/1050/1*jjRM1VktgWM-6AniM4B2Fw.png\"></center><br>With this dataset, John did the following. He wrote down each feature against the target variable, and highlighted each entry according to the following logic:<br><ul><li>Green — If the attribute matched the corresponding label</li>\n",
    "    <li>Red — If the attribute did not match the corresponding label</li></ul><br><center><img src=\"https://miro.medium.com/max/980/1*MBs1rABSMNjPC6LXiHhUnw.png\"><h6>John’s whiteboard</h6></center><br>Now, looking at the above tables, we can get a sense of which features contribute the most to correctly predicting the King. For example, the following diagram summarises the observations from the above tables.<br><center><img src=\"https://miro.medium.com/max/1037/1*ysQhZdYxUkes5PEkQ9g6sA.png\"><h6>Summary of the observations from the highlighted tables</h6></center><br>Well instincts is not good enough to call you solved a problem. You need quantifiable metrics to show that these features are powerful. In fact, half of the citizens in TreeLand are machine learning engineers! This is where the information gain comes in.<br>"
   ]
  },
  {
   "cell_type": "markdown",
   "id": "naked-faith",
   "metadata": {},
   "source": [
    "### Information gain: How much more information gained by splitting data?\n",
    "We already discussed that the basic idea behind a tree is to ask a question (i.e. test data against an attribute) and split the data depending on the answer (e.g. True or False). Information gain measures how predictable the data became (or how much more information gained) by splitting the data according to the answer provided at the decision node. Put on your science goggles, time to formalise. Information gained using feature F on data Y is defined by:<br>\n",
    "IG(Y, F) = H(Y)-H(Y|F)<br>\n",
    "where Y is the target variable and F is some feature (e.g. Gold Tooth). So the more powerful a feature is, the more information is gained by splitting the data on that feature. H(Y) is the entropy of the Y and H(Y|F) is the conditional entropy of Y conditioned on F (discussed soon). In code, computing information gain looks as follows.<br>\n",
    "def compute_infogain(data, feature, label_col_name):<br>\n",
    "    &emsp;&emsp;&emsp;\"\"\"<br>\n",
    "    &emsp;&emsp;&emsp;This function computes the information gain<br>\n",
    "    &emsp;&emsp;&emsp;IG(Y|X) = H(Y) - H(Y|X)<br>\n",
    "    &emsp;&emsp;&emsp;data: A pd.DataFrame container all data<br>\n",
    "    &emsp;&emsp;&emsp;grouped_data: A groupby object that groups Play_GOLF value counts by some feature<br>\n",
    "    &emsp;&emsp;&emsp;\"\"\"<br>\n",
    "<br>\n",
    "    &emsp;&emsp;&emsp;grouped_data = data.groupby(feature)[label_col_name].value_counts()<br>\n",
    "    <br>\n",
    "    &emsp;&emsp;&emsp;h_y = compute_entropy(data[label_col_name])<br>\n",
    "    &emsp;&emsp;&emsp;h_y_given_x = 0<br>\n",
    "    &emsp;&emsp;&emsp;#print(grouped_data)<br>\n",
    "    &emsp;&emsp;&emsp;for k in grouped_data.keys():<br>\n",
    "        &emsp;&emsp;&emsp;&emsp;&emsp;&emsp;# k is a tuple, which has the feature index followed by label index (groupby object)<br>\n",
    "        &emsp;&emsp;&emsp;&emsp;&emsp;&emsp;k_f, k_y = k<br>\n",
    "        &emsp;&emsp;&emsp;&emsp;&emsp;&emsp;h_y_given_x += (grouped_data[k_f][k_y].sum()*1.0/data.shape[0])* compute_entropy_with_counts(grouped_data[k_f])<br>\n",
    "    <br>\n",
    "    &emsp;&emsp;&emsp;return h_y - h_y_given_x<br>\n",
    "Let us now look at what entropy and conditional entropy is.<br>\n",
    "### Entropy and Conditional Entropy\n",
    "Entropy measures how many bits are required to transform data. So the more predictable your data, the lesser the number of bits required. In contrast, the less predictable your data, the more bits you need. This is written down as follows:<br><center><img src=\"https://miro.medium.com/max/452/1*9JcoMlpuatFwEb_fa5cdYw.png\"></center><br>where (y in Y) denotes the unique outcomes in Y (e.g. Is King = True or False in our example). You can implement this in Python quite easily.<br>\n",
    "def compute_entropy(ser):<br>\n",
    "    &emsp;&emsp;&emsp;\"\"\"<br>\n",
    "    &emsp;&emsp;&emsp;This function computes the entropy<br>\n",
    "    &emsp;&emsp;&emsp;\"\"\"<br>\n",
    "    &emsp;&emsp;&emsp;total = 0<br>\n",
    "    &emsp;&emsp;&emsp;counts = ser.value_counts()<br>\n",
    "    &emsp;&emsp;&emsp;for k in ser.unique():<br>\n",
    "    &emsp;&emsp;&emsp;&emsp;&emsp;&emsp;#print(k)<br>\n",
    "        &emsp;&emsp;&emsp;&emsp;&emsp;&emsp;total += -(counts[k]*1.0/ser.shape[0])*np.log2(counts[k]*1.0/ser.shape[0])<br>\n",
    "<br>        \n",
    "    &emsp;&emsp;&emsp;return total<br>\n",
    "### Entropy in layman’s terms\n",
    "<i>Let’s understand entropy more intuitively. Say the King decided to never fool the locals in the first place, and John decided to collect data to solve this problem. He would have had an entropy of zero. Why? Because the label is 100% predictable (i.e. it is always 0). But, in our data, the entropy is at its highest (i.e. 1), because there is a equal chance of a person being a king or not.<br>Imagine two people (John and Lisa) talking over the phone. Every time John calls Lisa, Lisa has to say if it was the king or not for each datapoint (i.e. 10 times) without any additional information. Below I depict how the conversation will go down for different entropy values.<br><center><img src=\"https://miro.medium.com/max/1050/1*nlpB2msUQ8Nf9KYXGMxIjw.png\"><h6>Difference of different entropy values</h6></center></i>\n",
    "### Conditional entropy in layman’s terms\n",
    "<i>This sets up the ground nicely to explain what conditional entropy is (i.e. H(Y|F). Imagine that now, for each datapoint, John tells whether the person had a Gold Tooth or not. Then, depending on the feature value (i.e. F), Lisa has to predict if that was the king or not. If you look at the table below, the data is now more predictable than not having any features.<br></i><center><img src=\"https://miro.medium.com/max/477/1*NIhtzQziCeX_bADDfZ-Qsw.png\"><h6>From Jonh’s whiteboard</h6></center><br>In summary, what information gain does is that,<br>\n",
    "<i>it measure the difference in predictability before and after providing information about the feature F.</i><br>To remind ourselves again, here’s the formula for the information gain.<br>\n",
    "IG(Y, F) = H(Y)-H(Y|F)<br>\n",
    "### Meanwhile in TreeLand\n",
    "<i>(Building the tree)</i><br>\n",
    "John computes the information gain for both <b>Castle</b> and <b>Gold Tooth</b> and find out that they are much better than <b>Slow</b> and <b>Greedy.</b> Then John first picks the feature <b>“Castle”.</b><br><center><img src=\"https://miro.medium.com/max/1050/1*YfSEm0-itEcxKNaux6GMEQ.png\"><h6>Tree with the feature “Castle”</h6></center><br>He’s happy with the left side. He thinks, “4/6 classification is not bad”. Given that he only has 10 datapoints, we’ll cut him some slack. But the results from the right side are poor (i.e. it’s 50% True or 50% False). He needs to improve the results, so he goes ahead and try to split the remainder on the left using the feature that gives the highest information gain, which turns out to be the <b>“Gold Tooth”</b> feature, and obtains the following.<br><center><img src=\"https://miro.medium.com/max/1050/1*sDehHhK55WqlqohqK2BcRw.png\"></center><br>So there you go! John has found the secret sauce! This is in fact how the <b>ID3 algorithm</b> works. More formally you would have the following pseudocode.<br><center><img src=\"https://miro.medium.com/max/1050/1*KOzG9J5TaBB_ORvGLPLTDA.png\"><h6>Pseudocode</h6></center><br>The most important function in this code would be build_tree which in reality would look like this.<br>"
   ]
  },
  {
   "cell_type": "code",
   "execution_count": 1,
   "id": "historic-grant",
   "metadata": {},
   "outputs": [],
   "source": [
    "def build_tree(data_to_split, label_column, features, best_feature=None, value=None, depth=0, min_leaf_count=3, ig_tol=1e-10, max_depth=5):\n",
    "    \"\"\"\n",
    "    This Function computes the sub tree recursively. This is a more general tree model\n",
    "    where there can be arbitrary number of children for a given node\n",
    "    :param data_to_split: pd.DataFrame\n",
    "    :param label_column: str (Column name of Y)\n",
    "    :param features: list of str (Column names of X)\n",
    "    :param best_feature: str (previous best feature fed recursively to build the tree)\n",
    "    :param value: int (previous value of the feature fed recursively)\n",
    "    :param depth: int (previous depth of the tree fed recursively)\n",
    "    :param min_leaf_count: int (minimum number of datapoints in a leaf)\n",
    "    :param ig_tol: float (information gain tolerance to make a split)\n",
    "    :param max_depth: int (maximum depth allowed in the tree)\n",
    "    \"\"\"\n",
    "    \n",
    "    # Sanity check (ig_tol needs to be > 0). Otherwise\n",
    "    # data having the same label before and after the split \n",
    "    # (information gain =0) will create many useless branches\n",
    "    if ig_tol<=0.0:\n",
    "        print('ig_tol needs to be > 0')\n",
    "        return\n",
    "    \n",
    "    # Termination condition 1 (minimum count on leaf)\n",
    "    if data_to_split.shape[0]<=3:\n",
    "        print('Too little data. Terminating growth ...')\n",
    "        children = [LeafNode(data_to_split, label_column)]\n",
    "        return DecisionNode(best_feature, value, data_to_split, children=children)\n",
    "    \n",
    "    # Finding the next best feature to split the data on\n",
    "    next_best_feature, infogain = find_best_feature(data_to_split, features, label_column)\n",
    "    feature_unique_values = list(set(data_to_split[next_best_feature].tolist()))\n",
    "    \n",
    "    # Termination condition 2 (minimum information gain)\n",
    "    if infogain < ig_tol or next_best_feature is None:\n",
    "        print('Too little information gain. Terminating growth ...')\n",
    "        children = [LeafNode(data_to_split, label_column)]\n",
    "        return DecisionNode(best_feature, value, data_to_split, children=children)\n",
    "    \n",
    "    next_depth = depth + 1\n",
    "    \n",
    "    # Termination condition 3 (depth)\n",
    "    if depth >= max_depth:\n",
    "        print('Too deep. Terminating growth ...')\n",
    "        children = [LeafNode(data_to_split, label_column)]\n",
    "        return DecisionNode(best_feature, value, data_to_split, children=children)\n",
    "    \n",
    "    print('Choosing {} as the best feature with {} information gain at depth {}'.format(next_best_feature, infogain, next_depth))\n",
    "    # Partition the data according to the selected features values\n",
    "    parts_dict = partition_data(next_best_feature, feature_unique_values, data_to_split)\n",
    "    \n",
    "    # For each partition create a child, where child recursively calls build_tree\n",
    "    children = []\n",
    "    \n",
    "    for attr, p in parts_dict.items():\n",
    "        print('\\tCreating child node {}={} having {} data points...'.format(next_best_feature, attr, p.shape[0]))\n",
    "        children.append(build_tree(p, label_column, features, next_best_feature, attr, next_depth, min_leaf_count, ig_tol, max_depth))\n",
    "        \n",
    "    # Return the node\n",
    "    return DecisionNode(best_feature, value, data_to_split, children=children)"
   ]
  },
  {
   "cell_type": "markdown",
   "id": "polished-liberia",
   "metadata": {},
   "source": [
    "### Treeland citizens can relax again\n",
    "So after John showed what he came up with, people were impressed. But John knew that more data would not only improve his model, but also validate his findings. So he asked others to help him collect more data. But little did he know, he’ll run into problems doing so.<br>\n",
    "### The tree is grew too much\n",
    "<i>(Overfitting and regularisation)</i><br>\n",
    "So John managed to get several people onboard with his idea to augment the dataset and improve the model. They managed to get the dataset up to 50 datapoints. So after collecting data, dreaming about a better more robust model, John created a new tree. Here’s the tree he got.<br><center><img src=\"https://miro.medium.com/max/1050/1*EzL06ci2bdOAp59Zflb4Rg.png\"><h6>New decision tree</h6></center><br>This tree instantly raised red flags in John’s mind. The tree is way too complicated to solve this problem. It should be enough to have only two or three features in a simple tree structure. So what happened here? This is called <b>overfitting!</b> John did not use any regularisation to control the complexity of the tree, leading to yielding a non-generalising and uninterpretable tree model that defeats the purpose.<br>\n",
    "### Let’s pivot back and correct John’s mistakes\n",
    "There are several ways you can combat overfitting in tree models. I will be discussing three methods in this section. They are:<br><ul>\n",
    "    <li>Making sure each leaf node has at least <b>n</b> datapoints</li>\n",
    "    <li>Making sure the depth of the tree does not exceed <b>d</b></li>\n",
    "    <li>Making sure the information gain is greater than a threshold to make a split</li></ul>\n",
    "Making sure that each leaf node has at least n number of datapoints in a leaf node is important. Because, you can build the world’s perfect tree (heavily overfitted) to any training set, by having a single datapoint assigned to each leaf node in the tree. Therefore, making sure there is at least n number of datapoints (e.g. say 5% of the data) leads to more generalised tree models.<br>\n",
    "Making sure that the tree does not exponentially grow, will again guard us against overfitting. In this method, we are basically limiting the number of questions we can ask to predict the class of a model, which leads to choosing the best few questions to ask, rather than asking all possible questions in the world.<br>\n",
    "The last one, making sure that the information gain is above a threshold should make sense. Because, what’s the point of growing the tree, if we’re not getting a benefit from it?<br>\n",
    "So, after revising these techniques and applying them to the model, John came up with the following model, which is more explainable.<br><center><img src=\"https://miro.medium.com/max/819/1*VQtVIDspkr6NOuAMGSt7wQ.png\"><h6>Regularised tree</h6></center><br>I am not going to reiterate about predicting with trees, as the process is quite straight forward. This can be implemented in Python using recursive functions as below.<br>"
   ]
  },
  {
   "cell_type": "code",
   "execution_count": 2,
   "id": "olympic-adult",
   "metadata": {},
   "outputs": [],
   "source": [
    "def predict_datapoint(test_point, my_tree):\n",
    "    \"\"\"\n",
    "    This function computes the prediction for a given data point\n",
    "    \"\"\"\n",
    "    \n",
    "    for c in my_tree.children:\n",
    "        # If we came to a leaf node, return the prediction given by the leaf node\n",
    "        if isinstance(c, LeafNode):\n",
    "            return c.prediction\n",
    "        \n",
    "        # If the feature value matches the value of the data point, keep diving\n",
    "        if test_point[c.feature] == c.value:\n",
    "            return predict_datapoint(test_point, c)"
   ]
  },
  {
   "cell_type": "markdown",
   "id": "moving-blowing",
   "metadata": {},
   "source": [
    "With this we conclude the adventure in TreeLand. In conclusion, John collected data, built an initial model using information gain to decide valuable features. Ran into trouble with overfitting and solved it using regularisation. The good news is that, they have learnt to avoid king treating the wrong way using this model John developed. So they lived happily ever after!<br>\n",
    "### Working with continuous values\n",
    "So far, we limited ourselves to only looking at discrete variables. But there’s so much you can do only with discrete variables. The interesting problems usually have a mix of both continuous and discrete variables. So how can we use continuous variables in decision trees? There are two popular ways.<br>\n",
    "<ul><li>Discretize the continuous feature by binning the range of a continuous feature to equal bins</li>\n",
    "    <li>Use <b>“minimal entropy partitioning”</b>[2] to find a split in the continuous feature</li></ul><br>"
   ]
  },
  {
   "cell_type": "markdown",
   "id": "tested-contrary",
   "metadata": {},
   "source": [
    "### Minimal entropy partitioning\n",
    "The minimal entropy partitioning (MEP) works as follows.<br>\n",
    "<ul><li>You first nominate a set of cut points depending on the range the data spreads within (e.g. Cut the range at T locations equally spread)</li>\n",
    "    <li>Then for each cut point, compute the weighted sum of entropy of the label Y</li>\n",
    "    <li>Pick the cut point, that gives the minimum entropy</li></ul>"
   ]
  },
  {
   "cell_type": "markdown",
   "id": "minute-fitness",
   "metadata": {},
   "source": [
    "### Wrap up\n",
    "In this article we discussed decision trees in great detail. Decision trees is a popular machine learning model, because they are more interpretable (e.g. compared to a neural network) and usually gives good performance, especially when used with ensembling (bagging and boosting).<br>\n",
    "We first briefly discussed the functionality of a decision tree while using a toy weather dataset as an example. Then we jumped to a more lively problem, which was to identify if the annoying King of TreeLand is terrifying the streets. We saw how John used information gain to identify features that can help to identify the King and subsequently built a tree using those features. Afterwards, we saw how problems such as “overfitting” arose as the dataset grew larger. We also discussed how overfitting can be prevented using various regularisation methods (e.g. limiting the maximum depth of the tree). Finally we concluded the adventure in TreeLand and did a quick side tour to see how continuous features can be handled in decision trees."
   ]
  },
  {
   "cell_type": "code",
   "execution_count": 3,
   "id": "together-reconstruction",
   "metadata": {},
   "outputs": [],
   "source": [
    "%matplotlib inline\n",
    "import pandas as pd\n",
    "import numpy as np\n",
    "import matplotlib.pyplot as plt\n",
    "import seaborn as sns\n",
    "\n",
    "import os\n",
    "for dirname, _, filenames in os.walk('/kaggle/input'):\n",
    "    for filename in filenames:\n",
    "        print(os.path.join(dirname,filename))"
   ]
  },
  {
   "cell_type": "code",
   "execution_count": 4,
   "id": "identified-workstation",
   "metadata": {},
   "outputs": [],
   "source": [
    "import warnings\n",
    "warnings.filterwarnings('ignore')"
   ]
  },
  {
   "cell_type": "code",
   "execution_count": 5,
   "id": "serial-anthony",
   "metadata": {},
   "outputs": [],
   "source": [
    "foo = pd.read_csv('car_evaluation.csv', header=None)"
   ]
  },
  {
   "cell_type": "code",
   "execution_count": 6,
   "id": "interested-michael",
   "metadata": {},
   "outputs": [
    {
     "data": {
      "text/plain": [
       "(1728, 7)"
      ]
     },
     "execution_count": 6,
     "metadata": {},
     "output_type": "execute_result"
    }
   ],
   "source": [
    "foo.shape"
   ]
  },
  {
   "cell_type": "code",
   "execution_count": 7,
   "id": "fifteen-selling",
   "metadata": {},
   "outputs": [
    {
     "data": {
      "text/html": [
       "<div>\n",
       "<style scoped>\n",
       "    .dataframe tbody tr th:only-of-type {\n",
       "        vertical-align: middle;\n",
       "    }\n",
       "\n",
       "    .dataframe tbody tr th {\n",
       "        vertical-align: top;\n",
       "    }\n",
       "\n",
       "    .dataframe thead th {\n",
       "        text-align: right;\n",
       "    }\n",
       "</style>\n",
       "<table border=\"1\" class=\"dataframe\">\n",
       "  <thead>\n",
       "    <tr style=\"text-align: right;\">\n",
       "      <th></th>\n",
       "      <th>0</th>\n",
       "      <th>1</th>\n",
       "      <th>2</th>\n",
       "      <th>3</th>\n",
       "      <th>4</th>\n",
       "      <th>5</th>\n",
       "      <th>6</th>\n",
       "    </tr>\n",
       "  </thead>\n",
       "  <tbody>\n",
       "    <tr>\n",
       "      <th>0</th>\n",
       "      <td>vhigh</td>\n",
       "      <td>vhigh</td>\n",
       "      <td>2</td>\n",
       "      <td>2</td>\n",
       "      <td>small</td>\n",
       "      <td>low</td>\n",
       "      <td>unacc</td>\n",
       "    </tr>\n",
       "    <tr>\n",
       "      <th>1</th>\n",
       "      <td>vhigh</td>\n",
       "      <td>vhigh</td>\n",
       "      <td>2</td>\n",
       "      <td>2</td>\n",
       "      <td>small</td>\n",
       "      <td>med</td>\n",
       "      <td>unacc</td>\n",
       "    </tr>\n",
       "    <tr>\n",
       "      <th>2</th>\n",
       "      <td>vhigh</td>\n",
       "      <td>vhigh</td>\n",
       "      <td>2</td>\n",
       "      <td>2</td>\n",
       "      <td>small</td>\n",
       "      <td>high</td>\n",
       "      <td>unacc</td>\n",
       "    </tr>\n",
       "    <tr>\n",
       "      <th>3</th>\n",
       "      <td>vhigh</td>\n",
       "      <td>vhigh</td>\n",
       "      <td>2</td>\n",
       "      <td>2</td>\n",
       "      <td>med</td>\n",
       "      <td>low</td>\n",
       "      <td>unacc</td>\n",
       "    </tr>\n",
       "    <tr>\n",
       "      <th>4</th>\n",
       "      <td>vhigh</td>\n",
       "      <td>vhigh</td>\n",
       "      <td>2</td>\n",
       "      <td>2</td>\n",
       "      <td>med</td>\n",
       "      <td>med</td>\n",
       "      <td>unacc</td>\n",
       "    </tr>\n",
       "  </tbody>\n",
       "</table>\n",
       "</div>"
      ],
      "text/plain": [
       "       0      1  2  3      4     5      6\n",
       "0  vhigh  vhigh  2  2  small   low  unacc\n",
       "1  vhigh  vhigh  2  2  small   med  unacc\n",
       "2  vhigh  vhigh  2  2  small  high  unacc\n",
       "3  vhigh  vhigh  2  2    med   low  unacc\n",
       "4  vhigh  vhigh  2  2    med   med  unacc"
      ]
     },
     "execution_count": 7,
     "metadata": {},
     "output_type": "execute_result"
    }
   ],
   "source": [
    "foo.head()"
   ]
  },
  {
   "cell_type": "code",
   "execution_count": 8,
   "id": "terminal-snapshot",
   "metadata": {},
   "outputs": [
    {
     "data": {
      "text/html": [
       "<div>\n",
       "<style scoped>\n",
       "    .dataframe tbody tr th:only-of-type {\n",
       "        vertical-align: middle;\n",
       "    }\n",
       "\n",
       "    .dataframe tbody tr th {\n",
       "        vertical-align: top;\n",
       "    }\n",
       "\n",
       "    .dataframe thead th {\n",
       "        text-align: right;\n",
       "    }\n",
       "</style>\n",
       "<table border=\"1\" class=\"dataframe\">\n",
       "  <thead>\n",
       "    <tr style=\"text-align: right;\">\n",
       "      <th></th>\n",
       "      <th>buying</th>\n",
       "      <th>maint</th>\n",
       "      <th>doors</th>\n",
       "      <th>persons</th>\n",
       "      <th>lug_boot</th>\n",
       "      <th>safety</th>\n",
       "      <th>class</th>\n",
       "    </tr>\n",
       "  </thead>\n",
       "  <tbody>\n",
       "    <tr>\n",
       "      <th>0</th>\n",
       "      <td>vhigh</td>\n",
       "      <td>vhigh</td>\n",
       "      <td>2</td>\n",
       "      <td>2</td>\n",
       "      <td>small</td>\n",
       "      <td>low</td>\n",
       "      <td>unacc</td>\n",
       "    </tr>\n",
       "    <tr>\n",
       "      <th>1</th>\n",
       "      <td>vhigh</td>\n",
       "      <td>vhigh</td>\n",
       "      <td>2</td>\n",
       "      <td>2</td>\n",
       "      <td>small</td>\n",
       "      <td>med</td>\n",
       "      <td>unacc</td>\n",
       "    </tr>\n",
       "    <tr>\n",
       "      <th>2</th>\n",
       "      <td>vhigh</td>\n",
       "      <td>vhigh</td>\n",
       "      <td>2</td>\n",
       "      <td>2</td>\n",
       "      <td>small</td>\n",
       "      <td>high</td>\n",
       "      <td>unacc</td>\n",
       "    </tr>\n",
       "    <tr>\n",
       "      <th>3</th>\n",
       "      <td>vhigh</td>\n",
       "      <td>vhigh</td>\n",
       "      <td>2</td>\n",
       "      <td>2</td>\n",
       "      <td>med</td>\n",
       "      <td>low</td>\n",
       "      <td>unacc</td>\n",
       "    </tr>\n",
       "    <tr>\n",
       "      <th>4</th>\n",
       "      <td>vhigh</td>\n",
       "      <td>vhigh</td>\n",
       "      <td>2</td>\n",
       "      <td>2</td>\n",
       "      <td>med</td>\n",
       "      <td>med</td>\n",
       "      <td>unacc</td>\n",
       "    </tr>\n",
       "  </tbody>\n",
       "</table>\n",
       "</div>"
      ],
      "text/plain": [
       "  buying  maint doors persons lug_boot safety  class\n",
       "0  vhigh  vhigh     2       2    small    low  unacc\n",
       "1  vhigh  vhigh     2       2    small    med  unacc\n",
       "2  vhigh  vhigh     2       2    small   high  unacc\n",
       "3  vhigh  vhigh     2       2      med    low  unacc\n",
       "4  vhigh  vhigh     2       2      med    med  unacc"
      ]
     },
     "execution_count": 8,
     "metadata": {},
     "output_type": "execute_result"
    }
   ],
   "source": [
    "#Renaming the columns to make them more understandable\n",
    "col_names = ['buying', 'maint', 'doors', 'persons', 'lug_boot', 'safety', 'class']\n",
    "foo.columns = col_names\n",
    "foo.head()"
   ]
  },
  {
   "cell_type": "code",
   "execution_count": 9,
   "id": "shaped-shopping",
   "metadata": {},
   "outputs": [
    {
     "name": "stdout",
     "output_type": "stream",
     "text": [
      "<class 'pandas.core.frame.DataFrame'>\n",
      "RangeIndex: 1728 entries, 0 to 1727\n",
      "Data columns (total 7 columns):\n",
      " #   Column    Non-Null Count  Dtype \n",
      "---  ------    --------------  ----- \n",
      " 0   buying    1728 non-null   object\n",
      " 1   maint     1728 non-null   object\n",
      " 2   doors     1728 non-null   object\n",
      " 3   persons   1728 non-null   object\n",
      " 4   lug_boot  1728 non-null   object\n",
      " 5   safety    1728 non-null   object\n",
      " 6   class     1728 non-null   object\n",
      "dtypes: object(7)\n",
      "memory usage: 47.3+ KB\n"
     ]
    }
   ],
   "source": [
    "foo.info()"
   ]
  },
  {
   "cell_type": "code",
   "execution_count": 10,
   "id": "saving-light",
   "metadata": {},
   "outputs": [
    {
     "data": {
      "text/plain": [
       "<bound method NDFrame._add_numeric_operations.<locals>.sum of       buying  maint  doors  persons  lug_boot  safety  class\n",
       "0      False  False  False    False     False   False  False\n",
       "1      False  False  False    False     False   False  False\n",
       "2      False  False  False    False     False   False  False\n",
       "3      False  False  False    False     False   False  False\n",
       "4      False  False  False    False     False   False  False\n",
       "...      ...    ...    ...      ...       ...     ...    ...\n",
       "1723   False  False  False    False     False   False  False\n",
       "1724   False  False  False    False     False   False  False\n",
       "1725   False  False  False    False     False   False  False\n",
       "1726   False  False  False    False     False   False  False\n",
       "1727   False  False  False    False     False   False  False\n",
       "\n",
       "[1728 rows x 7 columns]>"
      ]
     },
     "execution_count": 10,
     "metadata": {},
     "output_type": "execute_result"
    }
   ],
   "source": [
    "foo.isnull().sum"
   ]
  },
  {
   "cell_type": "code",
   "execution_count": 11,
   "id": "aquatic-chapter",
   "metadata": {},
   "outputs": [
    {
     "name": "stdout",
     "output_type": "stream",
     "text": [
      "vhigh    432\n",
      "low      432\n",
      "med      432\n",
      "high     432\n",
      "Name: buying, dtype: int64\n",
      "vhigh    432\n",
      "low      432\n",
      "med      432\n",
      "high     432\n",
      "Name: maint, dtype: int64\n",
      "3        432\n",
      "5more    432\n",
      "2        432\n",
      "4        432\n",
      "Name: doors, dtype: int64\n",
      "more    576\n",
      "2       576\n",
      "4       576\n",
      "Name: persons, dtype: int64\n",
      "big      576\n",
      "med      576\n",
      "small    576\n",
      "Name: lug_boot, dtype: int64\n",
      "low     576\n",
      "med     576\n",
      "high    576\n",
      "Name: safety, dtype: int64\n",
      "unacc    1210\n",
      "acc       384\n",
      "good       69\n",
      "vgood      65\n",
      "Name: class, dtype: int64\n"
     ]
    }
   ],
   "source": [
    "#Frecuency distribution of values in variable\n",
    "for col in col_names:\n",
    "    print(foo[col].value_counts())"
   ]
  },
  {
   "cell_type": "code",
   "execution_count": 12,
   "id": "correct-socket",
   "metadata": {},
   "outputs": [
    {
     "data": {
      "text/plain": [
       "unacc    1210\n",
       "acc       384\n",
       "good       69\n",
       "vgood      65\n",
       "Name: class, dtype: int64"
      ]
     },
     "execution_count": 12,
     "metadata": {},
     "output_type": "execute_result"
    }
   ],
   "source": [
    "#Frecuency of a particular variable. Eg - class\n",
    "foo['class'].value_counts()"
   ]
  },
  {
   "cell_type": "code",
   "execution_count": 13,
   "id": "banned-apollo",
   "metadata": {},
   "outputs": [],
   "source": [
    "#Define X and y variable to train and test\n",
    "X = foo.drop(['class'], axis=1)\n",
    "y = foo['class']"
   ]
  },
  {
   "cell_type": "code",
   "execution_count": 14,
   "id": "fancy-marker",
   "metadata": {},
   "outputs": [],
   "source": [
    "#Split data into separate training and test set\n",
    "from sklearn.model_selection import train_test_split\n",
    "X_train, X_test, y_train, y_test = train_test_split(X,y, test_size= 0.33, random_state = 42)"
   ]
  },
  {
   "cell_type": "code",
   "execution_count": 15,
   "id": "artificial-cleanup",
   "metadata": {},
   "outputs": [
    {
     "data": {
      "text/plain": [
       "((1157, 6), (571, 6))"
      ]
     },
     "execution_count": 15,
     "metadata": {},
     "output_type": "execute_result"
    }
   ],
   "source": [
    "X_train.shape , X_test.shape"
   ]
  },
  {
   "cell_type": "code",
   "execution_count": 16,
   "id": "front-honor",
   "metadata": {},
   "outputs": [
    {
     "data": {
      "text/plain": [
       "buying      object\n",
       "maint       object\n",
       "doors       object\n",
       "persons     object\n",
       "lug_boot    object\n",
       "safety      object\n",
       "dtype: object"
      ]
     },
     "execution_count": 16,
     "metadata": {},
     "output_type": "execute_result"
    }
   ],
   "source": [
    "#Feature Engineering - TRansforming raw data into useful features that help us to understand our model better and increase its predictive power.\n",
    "#First let's check the data types of variables again.\n",
    "X_train.dtypes"
   ]
  },
  {
   "cell_type": "code",
   "execution_count": 17,
   "id": "charming-concentrate",
   "metadata": {},
   "outputs": [],
   "source": [
    "#Now we will encode categorical variables\n",
    "#For that, let's import category encoders\n",
    "import category_encoders as ce"
   ]
  },
  {
   "cell_type": "code",
   "execution_count": 18,
   "id": "encouraging-retention",
   "metadata": {},
   "outputs": [],
   "source": [
    "encoder = ce.OrdinalEncoder(cols = ['buying', 'maint', 'doors', 'persons', 'lug_boot', 'safety'])"
   ]
  },
  {
   "cell_type": "code",
   "execution_count": 19,
   "id": "eight-institution",
   "metadata": {},
   "outputs": [],
   "source": [
    "X_train = encoder.fit_transform(X_train)\n",
    "X_test = encoder.transform(X_test)"
   ]
  },
  {
   "cell_type": "code",
   "execution_count": 20,
   "id": "contrary-spell",
   "metadata": {},
   "outputs": [
    {
     "data": {
      "text/html": [
       "<div>\n",
       "<style scoped>\n",
       "    .dataframe tbody tr th:only-of-type {\n",
       "        vertical-align: middle;\n",
       "    }\n",
       "\n",
       "    .dataframe tbody tr th {\n",
       "        vertical-align: top;\n",
       "    }\n",
       "\n",
       "    .dataframe thead th {\n",
       "        text-align: right;\n",
       "    }\n",
       "</style>\n",
       "<table border=\"1\" class=\"dataframe\">\n",
       "  <thead>\n",
       "    <tr style=\"text-align: right;\">\n",
       "      <th></th>\n",
       "      <th>buying</th>\n",
       "      <th>maint</th>\n",
       "      <th>doors</th>\n",
       "      <th>persons</th>\n",
       "      <th>lug_boot</th>\n",
       "      <th>safety</th>\n",
       "    </tr>\n",
       "  </thead>\n",
       "  <tbody>\n",
       "    <tr>\n",
       "      <th>48</th>\n",
       "      <td>1</td>\n",
       "      <td>1</td>\n",
       "      <td>1</td>\n",
       "      <td>1</td>\n",
       "      <td>1</td>\n",
       "      <td>1</td>\n",
       "    </tr>\n",
       "    <tr>\n",
       "      <th>468</th>\n",
       "      <td>2</td>\n",
       "      <td>1</td>\n",
       "      <td>1</td>\n",
       "      <td>2</td>\n",
       "      <td>2</td>\n",
       "      <td>1</td>\n",
       "    </tr>\n",
       "    <tr>\n",
       "      <th>155</th>\n",
       "      <td>1</td>\n",
       "      <td>2</td>\n",
       "      <td>1</td>\n",
       "      <td>1</td>\n",
       "      <td>2</td>\n",
       "      <td>2</td>\n",
       "    </tr>\n",
       "    <tr>\n",
       "      <th>1721</th>\n",
       "      <td>3</td>\n",
       "      <td>3</td>\n",
       "      <td>2</td>\n",
       "      <td>1</td>\n",
       "      <td>2</td>\n",
       "      <td>2</td>\n",
       "    </tr>\n",
       "    <tr>\n",
       "      <th>1208</th>\n",
       "      <td>4</td>\n",
       "      <td>3</td>\n",
       "      <td>3</td>\n",
       "      <td>1</td>\n",
       "      <td>2</td>\n",
       "      <td>2</td>\n",
       "    </tr>\n",
       "  </tbody>\n",
       "</table>\n",
       "</div>"
      ],
      "text/plain": [
       "      buying  maint  doors  persons  lug_boot  safety\n",
       "48         1      1      1        1         1       1\n",
       "468        2      1      1        2         2       1\n",
       "155        1      2      1        1         2       2\n",
       "1721       3      3      2        1         2       2\n",
       "1208       4      3      3        1         2       2"
      ]
     },
     "execution_count": 20,
     "metadata": {},
     "output_type": "execute_result"
    }
   ],
   "source": [
    "X_train.head()"
   ]
  },
  {
   "cell_type": "code",
   "execution_count": 21,
   "id": "capital-county",
   "metadata": {},
   "outputs": [
    {
     "data": {
      "text/html": [
       "<div>\n",
       "<style scoped>\n",
       "    .dataframe tbody tr th:only-of-type {\n",
       "        vertical-align: middle;\n",
       "    }\n",
       "\n",
       "    .dataframe tbody tr th {\n",
       "        vertical-align: top;\n",
       "    }\n",
       "\n",
       "    .dataframe thead th {\n",
       "        text-align: right;\n",
       "    }\n",
       "</style>\n",
       "<table border=\"1\" class=\"dataframe\">\n",
       "  <thead>\n",
       "    <tr style=\"text-align: right;\">\n",
       "      <th></th>\n",
       "      <th>buying</th>\n",
       "      <th>maint</th>\n",
       "      <th>doors</th>\n",
       "      <th>persons</th>\n",
       "      <th>lug_boot</th>\n",
       "      <th>safety</th>\n",
       "    </tr>\n",
       "  </thead>\n",
       "  <tbody>\n",
       "    <tr>\n",
       "      <th>599</th>\n",
       "      <td>2</td>\n",
       "      <td>2</td>\n",
       "      <td>4</td>\n",
       "      <td>3</td>\n",
       "      <td>1</td>\n",
       "      <td>2</td>\n",
       "    </tr>\n",
       "    <tr>\n",
       "      <th>1201</th>\n",
       "      <td>4</td>\n",
       "      <td>3</td>\n",
       "      <td>3</td>\n",
       "      <td>2</td>\n",
       "      <td>1</td>\n",
       "      <td>3</td>\n",
       "    </tr>\n",
       "    <tr>\n",
       "      <th>628</th>\n",
       "      <td>2</td>\n",
       "      <td>2</td>\n",
       "      <td>2</td>\n",
       "      <td>3</td>\n",
       "      <td>3</td>\n",
       "      <td>3</td>\n",
       "    </tr>\n",
       "    <tr>\n",
       "      <th>1498</th>\n",
       "      <td>3</td>\n",
       "      <td>2</td>\n",
       "      <td>2</td>\n",
       "      <td>2</td>\n",
       "      <td>1</td>\n",
       "      <td>3</td>\n",
       "    </tr>\n",
       "    <tr>\n",
       "      <th>1263</th>\n",
       "      <td>4</td>\n",
       "      <td>3</td>\n",
       "      <td>4</td>\n",
       "      <td>1</td>\n",
       "      <td>1</td>\n",
       "      <td>1</td>\n",
       "    </tr>\n",
       "  </tbody>\n",
       "</table>\n",
       "</div>"
      ],
      "text/plain": [
       "      buying  maint  doors  persons  lug_boot  safety\n",
       "599        2      2      4        3         1       2\n",
       "1201       4      3      3        2         1       3\n",
       "628        2      2      2        3         3       3\n",
       "1498       3      2      2        2         1       3\n",
       "1263       4      3      4        1         1       1"
      ]
     },
     "execution_count": 21,
     "metadata": {},
     "output_type": "execute_result"
    }
   ],
   "source": [
    "X_test.head()"
   ]
  },
  {
   "cell_type": "code",
   "execution_count": 22,
   "id": "cooperative-christianity",
   "metadata": {},
   "outputs": [],
   "source": [
    "#Decision Tree Classifier with criterion Gini index\n",
    "from sklearn.tree import DecisionTreeClassifier"
   ]
  },
  {
   "cell_type": "code",
   "execution_count": 23,
   "id": "amino-interval",
   "metadata": {},
   "outputs": [
    {
     "data": {
      "text/plain": [
       "DecisionTreeClassifier(max_depth=3, random_state=0)"
      ]
     },
     "execution_count": 23,
     "metadata": {},
     "output_type": "execute_result"
    }
   ],
   "source": [
    "clf_gini = DecisionTreeClassifier(criterion='gini', max_depth=3, random_state=0)\n",
    "#fit the model\n",
    "clf_gini.fit(X_train, y_train)"
   ]
  },
  {
   "cell_type": "code",
   "execution_count": 24,
   "id": "descending-exclusive",
   "metadata": {},
   "outputs": [],
   "source": [
    "#Predict the test set result with gini index\n",
    "y_pred_gini = clf_gini.predict(X_test)"
   ]
  },
  {
   "cell_type": "code",
   "execution_count": 25,
   "id": "centered-internet",
   "metadata": {},
   "outputs": [
    {
     "name": "stdout",
     "output_type": "stream",
     "text": [
      "Model accuracy score with criterion gini index: 0.8021\n"
     ]
    }
   ],
   "source": [
    "#Check accuracy score\n",
    "from sklearn.metrics import accuracy_score\n",
    "print('Model accuracy score with criterion gini index: {0:0.4f}'. format(accuracy_score(y_test, y_pred_gini)))"
   ]
  },
  {
   "cell_type": "code",
   "execution_count": 26,
   "id": "third-kazakhstan",
   "metadata": {},
   "outputs": [
    {
     "data": {
      "text/plain": [
       "array(['unacc', 'unacc', 'unacc', ..., 'unacc', 'unacc', 'acc'],\n",
       "      dtype=object)"
      ]
     },
     "execution_count": 26,
     "metadata": {},
     "output_type": "execute_result"
    }
   ],
   "source": [
    "#Compare train-set and test-set accuracy\n",
    "y_pred_train_gini = clf_gini.predict(X_train)\n",
    "y_pred_train_gini"
   ]
  },
  {
   "cell_type": "code",
   "execution_count": 27,
   "id": "enabling-poker",
   "metadata": {},
   "outputs": [
    {
     "name": "stdout",
     "output_type": "stream",
     "text": [
      "Training-set accuracy score: 0.7865\n"
     ]
    }
   ],
   "source": [
    "print('Training-set accuracy score: {0:0.4f}'. format(accuracy_score(y_train, y_pred_train_gini)))"
   ]
  },
  {
   "cell_type": "code",
   "execution_count": 28,
   "id": "annual-denver",
   "metadata": {},
   "outputs": [
    {
     "name": "stdout",
     "output_type": "stream",
     "text": [
      "Training set score: 0.7865\n",
      "Test set score: 0.8021\n"
     ]
    }
   ],
   "source": [
    "#print the scores on training and test set\n",
    "\n",
    "print('Training set score: {:.4f}'.format(clf_gini.score(X_train, y_train)))\n",
    "\n",
    "print('Test set score: {:.4f}'.format(clf_gini.score(X_test, y_test)))"
   ]
  },
  {
   "cell_type": "code",
   "execution_count": 29,
   "id": "mediterranean-factor",
   "metadata": {},
   "outputs": [
    {
     "data": {
      "text/plain": [
       "[Text(267.84000000000003, 380.52, 'X[5] <= 1.5\\ngini = 0.455\\nsamples = 1157\\nvalue = [255, 49, 813, 40]'),\n",
       " Text(133.92000000000002, 271.8, 'gini = 0.0\\nsamples = 386\\nvalue = [0, 0, 386, 0]'),\n",
       " Text(401.76000000000005, 271.8, 'X[3] <= 2.5\\ngini = 0.577\\nsamples = 771\\nvalue = [255, 49, 427, 40]'),\n",
       " Text(267.84000000000003, 163.07999999999998, 'X[0] <= 2.5\\ngini = 0.631\\nsamples = 525\\nvalue = [255, 49, 181, 40]'),\n",
       " Text(133.92000000000002, 54.360000000000014, 'gini = 0.496\\nsamples = 271\\nvalue = [124, 0, 147, 0]'),\n",
       " Text(401.76000000000005, 54.360000000000014, 'gini = 0.654\\nsamples = 254\\nvalue = [131, 49, 34, 40]'),\n",
       " Text(535.6800000000001, 163.07999999999998, 'gini = 0.0\\nsamples = 246\\nvalue = [0, 0, 246, 0]')]"
      ]
     },
     "execution_count": 29,
     "metadata": {},
     "output_type": "execute_result"
    },
    {
     "data": {
      "image/png": "[encoded data removed]",
      "text/plain": [
       "<Figure size 864x576 with 1 Axes>"
      ]
     },
     "metadata": {
      "needs_background": "light"
     },
     "output_type": "display_data"
    }
   ],
   "source": [
    "#Visualizing decision-trees\n",
    "plt.figure(figsize=(12,8))\n",
    "from sklearn import tree\n",
    "tree.plot_tree(clf_gini.fit(X_train, y_train))"
   ]
  },
  {
   "cell_type": "code",
   "execution_count": 30,
   "id": "nutritional-starter",
   "metadata": {},
   "outputs": [
    {
     "name": "stdout",
     "output_type": "stream",
     "text": [
      "digraph Tree {\n",
      "node [shape=box, style=\"filled, rounded\", color=\"black\", fontname=helvetica] ;\n",
      "edge [fontname=helvetica] ;\n",
      "0 [label=<safety &le; 1.5<br/>gini = 0.455<br/>samples = 1157<br/>value = [255, 49, 813, 40]<br/>class = unacc>, fillcolor=\"#85c2ef\"] ;\n",
      "1 [label=<gini = 0.0<br/>samples = 386<br/>value = [0, 0, 386, 0]<br/>class = unacc>, fillcolor=\"#399de5\"] ;\n",
      "0 -> 1 [labeldistance=2.5, labelangle=45, headlabel=\"True\"] ;\n",
      "2 [label=<persons &le; 2.5<br/>gini = 0.577<br/>samples = 771<br/>value = [255, 49, 427, 40]<br/>class = unacc>, fillcolor=\"#bddef6\"] ;\n",
      "0 -> 2 [labeldistance=2.5, labelangle=-45, headlabel=\"False\"] ;\n",
      "3 [label=<buying &le; 2.5<br/>gini = 0.631<br/>samples = 525<br/>value = [255, 49, 181, 40]<br/>class = unacc>, fillcolor=\"#f9e4d4\"] ;\n",
      "2 -> 3 ;\n",
      "4 [label=<gini = 0.496<br/>samples = 271<br/>value = [124, 0, 147, 0]<br/>class = unacc>, fillcolor=\"#e0f0fb\"] ;\n",
      "3 -> 4 ;\n",
      "5 [label=<gini = 0.654<br/>samples = 254<br/>value = [131, 49, 34, 40]<br/>class = unacc>, fillcolor=\"#f5cdb0\"] ;\n",
      "3 -> 5 ;\n",
      "6 [label=<gini = 0.0<br/>samples = 246<br/>value = [0, 0, 246, 0]<br/>class = unacc>, fillcolor=\"#399de5\"] ;\n",
      "2 -> 6 ;\n",
      "}\n"
     ]
    }
   ],
   "source": [
    "import graphviz\n",
    "dot_data = tree.export_graphviz(clf_gini, out_file=None, \n",
    "                              feature_names=X_train.columns,  \n",
    "                              class_names=y_train,  \n",
    "                              filled=True, rounded=True,  \n",
    "                              special_characters=True)\n",
    "graph = graphviz.Source(dot_data)\n",
    "print(graph)"
   ]
  },
  {
   "cell_type": "code",
   "execution_count": 31,
   "id": "daily-cooling",
   "metadata": {},
   "outputs": [
    {
     "name": "stdout",
     "output_type": "stream",
     "text": [
      "Confusion matrix\n",
      "\n",
      " [[ 73   0  56   0]\n",
      " [ 20   0   0   0]\n",
      " [ 12   0 385   0]\n",
      " [ 25   0   0   0]]\n"
     ]
    }
   ],
   "source": [
    "from sklearn.metrics import confusion_matrix\n",
    "\n",
    "cm = confusion_matrix(y_test, y_pred_gini)\n",
    "\n",
    "print('Confusion matrix\\n\\n', cm)"
   ]
  },
  {
   "cell_type": "code",
   "execution_count": 32,
   "id": "hispanic-psychiatry",
   "metadata": {},
   "outputs": [
    {
     "name": "stdout",
     "output_type": "stream",
     "text": [
      "              precision    recall  f1-score   support\n",
      "\n",
      "         acc       0.56      0.57      0.56       129\n",
      "        good       0.00      0.00      0.00        20\n",
      "       unacc       0.87      0.97      0.92       397\n",
      "       vgood       0.00      0.00      0.00        25\n",
      "\n",
      "    accuracy                           0.80       571\n",
      "   macro avg       0.36      0.38      0.37       571\n",
      "weighted avg       0.73      0.80      0.77       571\n",
      "\n"
     ]
    }
   ],
   "source": [
    "from sklearn.metrics import classification_report\n",
    "\n",
    "print(classification_report(y_test, y_pred_gini))"
   ]
  }
 ],
 "metadata": {
  "kernelspec": {
   "display_name": "Python 3",
   "language": "python",
   "name": "python3"
  },
  "language_info": {
   "codemirror_mode": {
    "name": "ipython",
    "version": 3
   },
   "file_extension": ".py",
   "mimetype": "text/x-python",
   "name": "python",
   "nbconvert_exporter": "python",
   "pygments_lexer": "ipython3",
   "version": "3.8.5"
  }
 },
 "nbformat": 4,
 "nbformat_minor": 5
}
